{
  "nbformat": 4,
  "nbformat_minor": 0,
  "metadata": {
    "accelerator": "GPU",
    "colab": {
      "name": "forest.ipynb",
      "provenance": [],
      "collapsed_sections": [],
      "toc_visible": true
    },
    "kernelspec": {
      "display_name": "Python 3",
      "language": "python",
      "name": "python3"
    },
    "language_info": {
      "codemirror_mode": {
        "name": "ipython",
        "version": 3
      },
      "file_extension": ".py",
      "mimetype": "text/x-python",
      "name": "python",
      "nbconvert_exporter": "python",
      "pygments_lexer": "ipython3",
      "version": "3.8.5"
    },
    "toc": {
      "base_numbering": 1,
      "nav_menu": {},
      "number_sections": true,
      "sideBar": true,
      "skip_h1_title": false,
      "title_cell": "Table of Contents",
      "title_sidebar": "Contents",
      "toc_cell": false,
      "toc_position": {},
      "toc_section_display": true,
      "toc_window_display": false
    }
  },
  "cells": [
    {
      "cell_type": "code",
      "metadata": {
        "colab": {
          "base_uri": "https://localhost:8080/"
        },
        "id": "TdlXcAJyo_Xk",
        "outputId": "07eb585e-593c-4b00-9b7f-3fc4ad1c2665"
      },
      "source": [
        " !pip install pytorch-tabnet\n",
        "!pip install wget\n",
        "from pytorch_tabnet.tab_model import TabNetClassifier\n",
        "\n",
        "import torch\n",
        "from sklearn.preprocessing import LabelEncoder\n",
        "from sklearn.metrics import accuracy_score\n",
        "from sklearn.model_selection import train_test_split\n",
        "import pandas as pd\n",
        "import numpy as np\n",
        "np.random.seed(0)\n",
        "\n",
        "\n",
        "import os\n",
        "import wget\n",
        "from pathlib import Path\n",
        "import shutil\n",
        "import gzip\n",
        "\n",
        "from matplotlib import pyplot as plt\n",
        "%matplotlib inline"
      ],
      "execution_count": 1,
      "outputs": [
        {
          "output_type": "stream",
          "text": [
            "Collecting pytorch-tabnet\n",
            "  Downloading https://files.pythonhosted.org/packages/94/e5/2a808d611a5d44e3c997c0d07362c04a56c70002208e00aec9eee3d923b5/pytorch_tabnet-3.1.1-py3-none-any.whl\n",
            "Requirement already satisfied: numpy<2.0,>=1.17 in /usr/local/lib/python3.7/dist-packages (from pytorch-tabnet) (1.19.5)\n",
            "Requirement already satisfied: torch<2.0,>=1.2 in /usr/local/lib/python3.7/dist-packages (from pytorch-tabnet) (1.8.0+cu101)\n",
            "Requirement already satisfied: scipy>1.4 in /usr/local/lib/python3.7/dist-packages (from pytorch-tabnet) (1.4.1)\n",
            "Requirement already satisfied: scikit_learn>0.21 in /usr/local/lib/python3.7/dist-packages (from pytorch-tabnet) (0.22.2.post1)\n",
            "Requirement already satisfied: tqdm<5.0,>=4.36 in /usr/local/lib/python3.7/dist-packages (from pytorch-tabnet) (4.41.1)\n",
            "Requirement already satisfied: typing-extensions in /usr/local/lib/python3.7/dist-packages (from torch<2.0,>=1.2->pytorch-tabnet) (3.7.4.3)\n",
            "Requirement already satisfied: joblib>=0.11 in /usr/local/lib/python3.7/dist-packages (from scikit_learn>0.21->pytorch-tabnet) (1.0.1)\n",
            "Installing collected packages: pytorch-tabnet\n",
            "Successfully installed pytorch-tabnet-3.1.1\n",
            "Collecting wget\n",
            "  Downloading https://files.pythonhosted.org/packages/47/6a/62e288da7bcda82b935ff0c6cfe542970f04e29c756b0e147251b2fb251f/wget-3.2.zip\n",
            "Building wheels for collected packages: wget\n",
            "  Building wheel for wget (setup.py) ... \u001b[?25l\u001b[?25hdone\n",
            "  Created wheel for wget: filename=wget-3.2-cp37-none-any.whl size=9681 sha256=5e3e75b65408e7ff51cf1cad5ed7cf0189a4d5138a547b542cd7b74712b59b44\n",
            "  Stored in directory: /root/.cache/pip/wheels/40/15/30/7d8f7cea2902b4db79e3fea550d7d7b85ecb27ef992b618f3f\n",
            "Successfully built wget\n",
            "Installing collected packages: wget\n",
            "Successfully installed wget-3.2\n"
          ],
          "name": "stdout"
        }
      ]
    },
    {
      "cell_type": "markdown",
      "metadata": {
        "id": "Ztfohtwro_Xn"
      },
      "source": [
        "# Download ForestCoverType dataset"
      ]
    },
    {
      "cell_type": "code",
      "metadata": {
        "id": "AfcvU9dqo_Xo"
      },
      "source": [
        "url = \"https://archive.ics.uci.edu/ml/machine-learning-databases/covtype/covtype.data.gz\"\n",
        "dataset_name = 'forest-cover-type'\n",
        "tmp_out = Path('./data/'+dataset_name+'.gz')\n",
        "out = Path(os.getcwd()+'/data/'+dataset_name+'.csv')"
      ],
      "execution_count": 2,
      "outputs": []
    },
    {
      "cell_type": "code",
      "metadata": {
        "colab": {
          "base_uri": "https://localhost:8080/"
        },
        "id": "GFPKgm0Go_Xp",
        "outputId": "b9dc6af4-dc57-4aaf-874c-ff5947051269"
      },
      "source": [
        "out.parent.mkdir(parents=True, exist_ok=True)\n",
        "if out.exists():\n",
        "    print(\"File already exists.\")\n",
        "else:\n",
        "    print(\"Downloading file...\")\n",
        "    wget.download(url, tmp_out.as_posix())\n",
        "    with gzip.open(tmp_out, 'rb') as f_in:\n",
        "        with open(out, 'wb') as f_out:\n",
        "            shutil.copyfileobj(f_in, f_out)\n",
        "    \n"
      ],
      "execution_count": 3,
      "outputs": [
        {
          "output_type": "stream",
          "text": [
            "Downloading file...\n"
          ],
          "name": "stdout"
        }
      ]
    },
    {
      "cell_type": "markdown",
      "metadata": {
        "id": "_XuIeaKco_Xq"
      },
      "source": [
        "# Load data and split\n",
        "Same split as in original paper"
      ]
    },
    {
      "cell_type": "code",
      "metadata": {
        "id": "gt7Azsyfo_Xr"
      },
      "source": [
        "target = \"Covertype\"\n",
        "\n",
        "bool_columns = [\n",
        "    \"Wilderness_Area1\", \"Wilderness_Area2\", \"Wilderness_Area3\",\n",
        "    \"Wilderness_Area4\", \"Soil_Type1\", \"Soil_Type2\", \"Soil_Type3\", \"Soil_Type4\",\n",
        "    \"Soil_Type5\", \"Soil_Type6\", \"Soil_Type7\", \"Soil_Type8\", \"Soil_Type9\",\n",
        "    \"Soil_Type10\", \"Soil_Type11\", \"Soil_Type12\", \"Soil_Type13\", \"Soil_Type14\",\n",
        "    \"Soil_Type15\", \"Soil_Type16\", \"Soil_Type17\", \"Soil_Type18\", \"Soil_Type19\",\n",
        "    \"Soil_Type20\", \"Soil_Type21\", \"Soil_Type22\", \"Soil_Type23\", \"Soil_Type24\",\n",
        "    \"Soil_Type25\", \"Soil_Type26\", \"Soil_Type27\", \"Soil_Type28\", \"Soil_Type29\",\n",
        "    \"Soil_Type30\", \"Soil_Type31\", \"Soil_Type32\", \"Soil_Type33\", \"Soil_Type34\",\n",
        "    \"Soil_Type35\", \"Soil_Type36\", \"Soil_Type37\", \"Soil_Type38\", \"Soil_Type39\",\n",
        "    \"Soil_Type40\"\n",
        "]\n",
        "\n",
        "int_columns = [\n",
        "    \"Elevation\", \"Aspect\", \"Slope\", \"Horizontal_Distance_To_Hydrology\",\n",
        "    \"Vertical_Distance_To_Hydrology\", \"Horizontal_Distance_To_Roadways\",\n",
        "    \"Hillshade_9am\", \"Hillshade_Noon\", \"Hillshade_3pm\",\n",
        "    \"Horizontal_Distance_To_Fire_Points\"\n",
        "]\n",
        "\n",
        "feature_columns = (\n",
        "    int_columns + bool_columns + [target])\n"
      ],
      "execution_count": 4,
      "outputs": []
    },
    {
      "cell_type": "code",
      "metadata": {
        "id": "w_10ukPSo_Xs"
      },
      "source": [
        "train = pd.read_csv(out, header=None, names=feature_columns)\n",
        "\n",
        "n_total = len(train)\n",
        "\n",
        "# Train, val and test split follows\n",
        "# Rory Mitchell, Andrey Adinets, Thejaswi Rao, and Eibe Frank.\n",
        "# Xgboost: Scalable GPU accelerated learning. arXiv:1806.11248, 2018.\n",
        "\n",
        "train_val_indices, test_indices = train_test_split(\n",
        "    range(n_total), test_size=0.2, random_state=0)\n",
        "train_indices, valid_indices = train_test_split(\n",
        "    train_val_indices, test_size=0.2 / 0.6, random_state=0)\n"
      ],
      "execution_count": 5,
      "outputs": []
    },
    {
      "cell_type": "markdown",
      "metadata": {
        "id": "b4z5DPTGo_Xs"
      },
      "source": [
        "# Simple preprocessing\n",
        "\n",
        "Label encode categorical features and fill empty cells."
      ]
    },
    {
      "cell_type": "code",
      "metadata": {
        "id": "rbMFdljro_Xt"
      },
      "source": [
        "categorical_columns = []\n",
        "categorical_dims =  {}\n",
        "for col in train.columns[train.dtypes == object]:\n",
        "    print(col, train[col].nunique())\n",
        "    l_enc = LabelEncoder()\n",
        "    train[col] = train[col].fillna(\"VV_likely\")\n",
        "    train[col] = l_enc.fit_transform(train[col].values)\n",
        "    categorical_columns.append(col)\n",
        "    categorical_dims[col] = len(l_enc.classes_)\n",
        "\n",
        "for col in train.columns[train.dtypes == 'float64']:\n",
        "    train.fillna(train.loc[train_indices, col].mean(), inplace=True)"
      ],
      "execution_count": 6,
      "outputs": []
    },
    {
      "cell_type": "markdown",
      "metadata": {
        "id": "cZsNS3Nio_Xt"
      },
      "source": [
        "# Define categorical features for categorical embeddings"
      ]
    },
    {
      "cell_type": "code",
      "metadata": {
        "id": "8Tyc3yTuo_Xu"
      },
      "source": [
        "unused_feat = []\n",
        "\n",
        "features = [ col for col in train.columns if col not in unused_feat+[target]] \n",
        "\n",
        "cat_idxs = [ i for i, f in enumerate(features) if f in categorical_columns]\n",
        "\n",
        "cat_dims = [ categorical_dims[f] for i, f in enumerate(features) if f in categorical_columns]\n"
      ],
      "execution_count": 7,
      "outputs": []
    },
    {
      "cell_type": "code",
      "metadata": {
        "id": "5iVHiU7xP79X"
      },
      "source": [
        "tabnet_forest_covertype = tabnet_model.TabNet(\n",
        "      columns=data_helper_covertype.get_columns(),\n",
        "      num_features=data_helper_covertype.num_features,\n",
        "      feature_dim=128,\n",
        "      output_dim=64,\n",
        "      num_decision_steps=6,\n",
        "      relaxation_factor=1.5,\n",
        "      batch_momentum=0.7,\n",
        "      virtual_batch_size=512,\n",
        "      num_classes=data_helper_covertype.num_classes)"
      ],
      "execution_count": null,
      "outputs": []
    },
    {
      "cell_type": "markdown",
      "metadata": {
        "id": "7ioyDJ7uo_Xu"
      },
      "source": [
        "# Network parameters"
      ]
    },
    {
      "cell_type": "code",
      "metadata": {
        "colab": {
          "base_uri": "https://localhost:8080/"
        },
        "id": "G12X1NoZo_Xu",
        "outputId": "13e6a596-711c-4c5a-ad8d-a665cbede522"
      },
      "source": [
        "clf = TabNetClassifier(\n",
        "    n_d=64, n_a=64, n_steps=6,\n",
        "    gamma=1.5, n_independent=2, n_shared=2,\n",
        "    cat_idxs=cat_idxs,\n",
        "    cat_dims=cat_dims,\n",
        "    cat_emb_dim=1,\n",
        "    lambda_sparse=1e-4, momentum=0.7, clip_value=2.,\n",
        "    optimizer_fn=torch.optim.Adam,\n",
        "    optimizer_params=dict(lr=2e-2),\n",
        "    scheduler_params = {\"gamma\": 0.95,\n",
        "                     \"step_size\": 20},\n",
        "    scheduler_fn=torch.optim.lr_scheduler.StepLR, epsilon=1e-15\n",
        ")"
      ],
      "execution_count": 18,
      "outputs": [
        {
          "output_type": "stream",
          "text": [
            "Device used : cuda\n"
          ],
          "name": "stdout"
        }
      ]
    },
    {
      "cell_type": "markdown",
      "metadata": {
        "id": "iY4nC9Q_o_Xv"
      },
      "source": [
        "# Training"
      ]
    },
    {
      "cell_type": "code",
      "metadata": {
        "id": "K62GxgIgt-WV"
      },
      "source": [
        "np.random.seed(10)"
      ],
      "execution_count": 19,
      "outputs": []
    },
    {
      "cell_type": "code",
      "metadata": {
        "id": "VBa6TGD_o_Xv"
      },
      "source": [
        "if os.getenv(\"CI\", False):\n",
        "# Take only a subsample to run CI\n",
        "    X_train = train[features].values[train_indices][:1000,:]\n",
        "    y_train = train[target].values[train_indices][:1000]\n",
        "else:\n",
        "    X_train = train[features].values[train_indices]\n",
        "    y_train = train[target].values[train_indices]\n",
        "\n",
        "X_valid = train[features].values[valid_indices]\n",
        "y_valid = train[target].values[valid_indices]\n",
        "\n",
        "X_test = train[features].values[test_indices]\n",
        "y_test = train[target].values[test_indices]"
      ],
      "execution_count": 20,
      "outputs": []
    },
    {
      "cell_type": "code",
      "metadata": {
        "id": "1EGXGFvYo_Xw"
      },
      "source": [
        "max_epochs = 250 if not os.getenv(\"CI\", False) else 2"
      ],
      "execution_count": 25,
      "outputs": []
    },
    {
      "cell_type": "code",
      "metadata": {
        "colab": {
          "base_uri": "https://localhost:8080/"
        },
        "id": "4EihW6B9o_Xw",
        "scrolled": true,
        "outputId": "9d859288-9a50-4e1b-f94c-c1541f4c6a86"
      },
      "source": [
        "clf.fit(\n",
        "    X_train=X_train, y_train=y_train,\n",
        "    eval_set=[(X_train, y_train), (X_valid, y_valid)],\n",
        "    eval_name=['train', 'valid'],\n",
        "    max_epochs=max_epochs, patience=100,\n",
        "    batch_size=16384, virtual_batch_size=512\n",
        ") "
      ],
      "execution_count": 26,
      "outputs": [
        {
          "output_type": "stream",
          "text": [
            "epoch 0  | loss: 0.61518 | train_accuracy: 0.76091 | valid_accuracy: 0.75871 |  0:00:12s\n",
            "epoch 1  | loss: 0.52118 | train_accuracy: 0.7735  | valid_accuracy: 0.77139 |  0:00:25s\n",
            "epoch 2  | loss: 0.48751 | train_accuracy: 0.78832 | valid_accuracy: 0.78555 |  0:00:38s\n",
            "epoch 3  | loss: 0.46176 | train_accuracy: 0.80137 | valid_accuracy: 0.79883 |  0:00:51s\n",
            "epoch 4  | loss: 0.45153 | train_accuracy: 0.80869 | valid_accuracy: 0.80626 |  0:01:04s\n",
            "epoch 5  | loss: 0.43075 | train_accuracy: 0.82145 | valid_accuracy: 0.81718 |  0:01:17s\n",
            "epoch 6  | loss: 0.41698 | train_accuracy: 0.81791 | valid_accuracy: 0.81479 |  0:01:29s\n",
            "epoch 7  | loss: 0.40627 | train_accuracy: 0.83095 | valid_accuracy: 0.82644 |  0:01:42s\n",
            "epoch 8  | loss: 0.38913 | train_accuracy: 0.83419 | valid_accuracy: 0.8296  |  0:01:55s\n",
            "epoch 9  | loss: 0.39491 | train_accuracy: 0.84208 | valid_accuracy: 0.83874 |  0:02:08s\n",
            "epoch 10 | loss: 0.36987 | train_accuracy: 0.85499 | valid_accuracy: 0.85075 |  0:02:20s\n",
            "epoch 11 | loss: 0.35078 | train_accuracy: 0.85909 | valid_accuracy: 0.85502 |  0:02:33s\n",
            "epoch 12 | loss: 0.33742 | train_accuracy: 0.86882 | valid_accuracy: 0.86353 |  0:02:46s\n",
            "epoch 13 | loss: 0.32813 | train_accuracy: 0.87474 | valid_accuracy: 0.86914 |  0:02:59s\n",
            "epoch 14 | loss: 0.3152  | train_accuracy: 0.87625 | valid_accuracy: 0.87078 |  0:03:12s\n",
            "epoch 15 | loss: 0.30719 | train_accuracy: 0.87742 | valid_accuracy: 0.87199 |  0:03:25s\n",
            "epoch 16 | loss: 0.3052  | train_accuracy: 0.88142 | valid_accuracy: 0.87521 |  0:03:37s\n",
            "epoch 17 | loss: 0.29522 | train_accuracy: 0.89034 | valid_accuracy: 0.88408 |  0:03:50s\n",
            "epoch 18 | loss: 0.28256 | train_accuracy: 0.89302 | valid_accuracy: 0.88659 |  0:04:03s\n",
            "epoch 19 | loss: 0.27748 | train_accuracy: 0.89841 | valid_accuracy: 0.8907  |  0:04:16s\n",
            "epoch 20 | loss: 0.27085 | train_accuracy: 0.89264 | valid_accuracy: 0.88515 |  0:04:29s\n",
            "epoch 21 | loss: 0.26355 | train_accuracy: 0.90119 | valid_accuracy: 0.89326 |  0:04:42s\n",
            "epoch 22 | loss: 0.25433 | train_accuracy: 0.90414 | valid_accuracy: 0.89684 |  0:04:55s\n",
            "epoch 23 | loss: 0.24794 | train_accuracy: 0.90331 | valid_accuracy: 0.89539 |  0:05:07s\n",
            "epoch 24 | loss: 0.24721 | train_accuracy: 0.90784 | valid_accuracy: 0.8986  |  0:05:20s\n",
            "epoch 25 | loss: 0.24387 | train_accuracy: 0.90879 | valid_accuracy: 0.89974 |  0:05:33s\n",
            "epoch 26 | loss: 0.24573 | train_accuracy: 0.90687 | valid_accuracy: 0.89787 |  0:05:46s\n",
            "epoch 27 | loss: 0.24354 | train_accuracy: 0.90636 | valid_accuracy: 0.89825 |  0:05:59s\n",
            "epoch 28 | loss: 0.2272  | train_accuracy: 0.91739 | valid_accuracy: 0.9075  |  0:06:12s\n",
            "epoch 29 | loss: 0.22151 | train_accuracy: 0.91891 | valid_accuracy: 0.90941 |  0:06:24s\n",
            "epoch 30 | loss: 0.21902 | train_accuracy: 0.9184  | valid_accuracy: 0.9085  |  0:06:37s\n",
            "epoch 31 | loss: 0.21757 | train_accuracy: 0.92039 | valid_accuracy: 0.91189 |  0:06:49s\n",
            "epoch 32 | loss: 0.21339 | train_accuracy: 0.92005 | valid_accuracy: 0.91045 |  0:07:02s\n",
            "epoch 33 | loss: 0.22233 | train_accuracy: 0.91266 | valid_accuracy: 0.90255 |  0:07:14s\n",
            "epoch 34 | loss: 0.31443 | train_accuracy: 0.87635 | valid_accuracy: 0.87019 |  0:07:26s\n",
            "epoch 35 | loss: 0.29083 | train_accuracy: 0.90095 | valid_accuracy: 0.8929  |  0:07:39s\n",
            "epoch 36 | loss: 0.27305 | train_accuracy: 0.90252 | valid_accuracy: 0.89506 |  0:07:51s\n",
            "epoch 37 | loss: 0.24691 | train_accuracy: 0.91076 | valid_accuracy: 0.90352 |  0:08:04s\n",
            "epoch 38 | loss: 0.22842 | train_accuracy: 0.91814 | valid_accuracy: 0.90955 |  0:08:16s\n",
            "epoch 39 | loss: 0.22141 | train_accuracy: 0.91681 | valid_accuracy: 0.90809 |  0:08:28s\n",
            "epoch 40 | loss: 0.2118  | train_accuracy: 0.91856 | valid_accuracy: 0.90919 |  0:08:40s\n",
            "epoch 41 | loss: 0.20671 | train_accuracy: 0.9253  | valid_accuracy: 0.91608 |  0:08:53s\n",
            "epoch 42 | loss: 0.19827 | train_accuracy: 0.92599 | valid_accuracy: 0.91527 |  0:09:05s\n",
            "epoch 43 | loss: 0.22513 | train_accuracy: 0.87855 | valid_accuracy: 0.87086 |  0:09:18s\n",
            "epoch 44 | loss: 0.3886  | train_accuracy: 0.85822 | valid_accuracy: 0.85324 |  0:09:30s\n",
            "epoch 45 | loss: 0.33553 | train_accuracy: 0.88402 | valid_accuracy: 0.87747 |  0:09:42s\n",
            "epoch 46 | loss: 0.28851 | train_accuracy: 0.89733 | valid_accuracy: 0.88954 |  0:09:55s\n",
            "epoch 47 | loss: 0.26555 | train_accuracy: 0.90347 | valid_accuracy: 0.89576 |  0:10:07s\n",
            "epoch 48 | loss: 0.24981 | train_accuracy: 0.90704 | valid_accuracy: 0.89869 |  0:10:19s\n",
            "epoch 49 | loss: 0.24838 | train_accuracy: 0.90998 | valid_accuracy: 0.90048 |  0:10:32s\n",
            "epoch 50 | loss: 0.23463 | train_accuracy: 0.91632 | valid_accuracy: 0.90568 |  0:10:44s\n",
            "epoch 51 | loss: 0.22654 | train_accuracy: 0.92057 | valid_accuracy: 0.91015 |  0:10:57s\n",
            "epoch 52 | loss: 0.2175  | train_accuracy: 0.92216 | valid_accuracy: 0.91159 |  0:11:09s\n",
            "epoch 53 | loss: 0.21034 | train_accuracy: 0.92393 | valid_accuracy: 0.91355 |  0:11:21s\n",
            "epoch 54 | loss: 0.21132 | train_accuracy: 0.92265 | valid_accuracy: 0.91282 |  0:11:34s\n",
            "epoch 55 | loss: 0.20447 | train_accuracy: 0.92512 | valid_accuracy: 0.915   |  0:11:46s\n",
            "epoch 56 | loss: 0.20305 | train_accuracy: 0.92353 | valid_accuracy: 0.9125  |  0:11:58s\n",
            "epoch 57 | loss: 0.20518 | train_accuracy: 0.92373 | valid_accuracy: 0.91368 |  0:12:11s\n",
            "epoch 58 | loss: 0.20557 | train_accuracy: 0.92762 | valid_accuracy: 0.9173  |  0:12:23s\n",
            "epoch 59 | loss: 0.19836 | train_accuracy: 0.92859 | valid_accuracy: 0.91817 |  0:12:35s\n",
            "epoch 60 | loss: 0.19077 | train_accuracy: 0.93448 | valid_accuracy: 0.92328 |  0:12:48s\n",
            "epoch 61 | loss: 0.19064 | train_accuracy: 0.93106 | valid_accuracy: 0.9206  |  0:13:00s\n",
            "epoch 62 | loss: 0.18766 | train_accuracy: 0.93571 | valid_accuracy: 0.92427 |  0:13:13s\n",
            "epoch 63 | loss: 0.18898 | train_accuracy: 0.93242 | valid_accuracy: 0.92123 |  0:13:25s\n",
            "epoch 64 | loss: 0.19688 | train_accuracy: 0.92711 | valid_accuracy: 0.9157  |  0:13:37s\n",
            "epoch 65 | loss: 0.18589 | train_accuracy: 0.93767 | valid_accuracy: 0.92657 |  0:13:50s\n",
            "epoch 66 | loss: 0.17646 | train_accuracy: 0.93537 | valid_accuracy: 0.92317 |  0:14:02s\n",
            "epoch 67 | loss: 0.17114 | train_accuracy: 0.93677 | valid_accuracy: 0.92494 |  0:14:14s\n",
            "epoch 68 | loss: 0.16603 | train_accuracy: 0.94398 | valid_accuracy: 0.93045 |  0:14:27s\n",
            "epoch 69 | loss: 0.16008 | train_accuracy: 0.94327 | valid_accuracy: 0.9313  |  0:14:39s\n",
            "epoch 70 | loss: 0.1649  | train_accuracy: 0.93809 | valid_accuracy: 0.92594 |  0:14:51s\n",
            "epoch 71 | loss: 0.17189 | train_accuracy: 0.93851 | valid_accuracy: 0.92563 |  0:15:04s\n",
            "epoch 72 | loss: 0.16607 | train_accuracy: 0.94356 | valid_accuracy: 0.93044 |  0:15:16s\n",
            "epoch 73 | loss: 0.15635 | train_accuracy: 0.94267 | valid_accuracy: 0.92988 |  0:15:29s\n",
            "epoch 74 | loss: 0.15239 | train_accuracy: 0.94696 | valid_accuracy: 0.93306 |  0:15:41s\n",
            "epoch 75 | loss: 0.15391 | train_accuracy: 0.94622 | valid_accuracy: 0.93333 |  0:15:53s\n",
            "epoch 76 | loss: 0.14881 | train_accuracy: 0.94504 | valid_accuracy: 0.93078 |  0:16:06s\n",
            "epoch 77 | loss: 0.16729 | train_accuracy: 0.93581 | valid_accuracy: 0.92411 |  0:16:18s\n",
            "epoch 78 | loss: 0.1735  | train_accuracy: 0.94089 | valid_accuracy: 0.92759 |  0:16:31s\n",
            "epoch 79 | loss: 0.16382 | train_accuracy: 0.94497 | valid_accuracy: 0.9328  |  0:16:43s\n",
            "epoch 80 | loss: 0.2243  | train_accuracy: 0.90804 | valid_accuracy: 0.89856 |  0:16:55s\n",
            "epoch 81 | loss: 0.21944 | train_accuracy: 0.92731 | valid_accuracy: 0.9165  |  0:17:08s\n",
            "epoch 82 | loss: 0.17527 | train_accuracy: 0.9393  | valid_accuracy: 0.92758 |  0:17:20s\n",
            "epoch 83 | loss: 0.16069 | train_accuracy: 0.94549 | valid_accuracy: 0.93277 |  0:17:33s\n",
            "epoch 84 | loss: 0.15404 | train_accuracy: 0.94617 | valid_accuracy: 0.93355 |  0:17:45s\n",
            "epoch 85 | loss: 0.15117 | train_accuracy: 0.95004 | valid_accuracy: 0.93618 |  0:17:57s\n",
            "epoch 86 | loss: 0.15056 | train_accuracy: 0.9389  | valid_accuracy: 0.92722 |  0:18:10s\n",
            "epoch 87 | loss: 0.14812 | train_accuracy: 0.95087 | valid_accuracy: 0.93738 |  0:18:23s\n",
            "epoch 88 | loss: 0.14652 | train_accuracy: 0.94743 | valid_accuracy: 0.93299 |  0:18:35s\n",
            "epoch 89 | loss: 0.1463  | train_accuracy: 0.9473  | valid_accuracy: 0.93344 |  0:18:47s\n",
            "epoch 90 | loss: 0.13987 | train_accuracy: 0.94974 | valid_accuracy: 0.93578 |  0:19:00s\n",
            "epoch 91 | loss: 0.14018 | train_accuracy: 0.95248 | valid_accuracy: 0.9379  |  0:19:12s\n",
            "epoch 92 | loss: 0.13754 | train_accuracy: 0.94784 | valid_accuracy: 0.93359 |  0:19:25s\n",
            "epoch 93 | loss: 0.13899 | train_accuracy: 0.95233 | valid_accuracy: 0.93815 |  0:19:37s\n",
            "epoch 94 | loss: 0.13991 | train_accuracy: 0.95128 | valid_accuracy: 0.93715 |  0:19:50s\n",
            "epoch 95 | loss: 0.13728 | train_accuracy: 0.95236 | valid_accuracy: 0.93776 |  0:20:02s\n",
            "epoch 96 | loss: 0.13516 | train_accuracy: 0.95353 | valid_accuracy: 0.93852 |  0:20:15s\n",
            "epoch 97 | loss: 0.13443 | train_accuracy: 0.95639 | valid_accuracy: 0.9409  |  0:20:27s\n",
            "epoch 98 | loss: 0.12959 | train_accuracy: 0.95565 | valid_accuracy: 0.94099 |  0:20:40s\n",
            "epoch 99 | loss: 0.12775 | train_accuracy: 0.95484 | valid_accuracy: 0.93888 |  0:20:52s\n",
            "epoch 100| loss: 0.12527 | train_accuracy: 0.95862 | valid_accuracy: 0.94316 |  0:21:05s\n",
            "epoch 101| loss: 0.13201 | train_accuracy: 0.95353 | valid_accuracy: 0.93799 |  0:21:17s\n",
            "epoch 102| loss: 0.12966 | train_accuracy: 0.95456 | valid_accuracy: 0.93922 |  0:21:30s\n",
            "epoch 103| loss: 0.1241  | train_accuracy: 0.95863 | valid_accuracy: 0.94184 |  0:21:43s\n",
            "epoch 104| loss: 0.12295 | train_accuracy: 0.95763 | valid_accuracy: 0.94273 |  0:21:55s\n",
            "epoch 105| loss: 0.12312 | train_accuracy: 0.95716 | valid_accuracy: 0.94129 |  0:22:08s\n",
            "epoch 106| loss: 0.12146 | train_accuracy: 0.96127 | valid_accuracy: 0.94516 |  0:22:20s\n",
            "epoch 107| loss: 0.11931 | train_accuracy: 0.95998 | valid_accuracy: 0.94366 |  0:22:33s\n",
            "epoch 108| loss: 0.1191  | train_accuracy: 0.96054 | valid_accuracy: 0.94436 |  0:22:45s\n",
            "epoch 109| loss: 0.11926 | train_accuracy: 0.96125 | valid_accuracy: 0.9449  |  0:22:57s\n",
            "epoch 110| loss: 0.1166  | train_accuracy: 0.96056 | valid_accuracy: 0.94471 |  0:23:10s\n",
            "epoch 111| loss: 0.11587 | train_accuracy: 0.96268 | valid_accuracy: 0.94613 |  0:23:22s\n",
            "epoch 112| loss: 0.11639 | train_accuracy: 0.95982 | valid_accuracy: 0.94407 |  0:23:35s\n",
            "epoch 113| loss: 0.11741 | train_accuracy: 0.95656 | valid_accuracy: 0.94103 |  0:23:47s\n",
            "epoch 114| loss: 0.11744 | train_accuracy: 0.95928 | valid_accuracy: 0.94231 |  0:24:00s\n",
            "epoch 115| loss: 0.13152 | train_accuracy: 0.95517 | valid_accuracy: 0.93965 |  0:24:12s\n",
            "epoch 116| loss: 0.12534 | train_accuracy: 0.96044 | valid_accuracy: 0.94467 |  0:24:25s\n",
            "epoch 117| loss: 0.12172 | train_accuracy: 0.95967 | valid_accuracy: 0.94334 |  0:24:37s\n",
            "epoch 118| loss: 0.12191 | train_accuracy: 0.95677 | valid_accuracy: 0.9404  |  0:24:50s\n",
            "epoch 119| loss: 0.11872 | train_accuracy: 0.95793 | valid_accuracy: 0.94202 |  0:25:02s\n",
            "epoch 120| loss: 0.11801 | train_accuracy: 0.96003 | valid_accuracy: 0.94367 |  0:25:15s\n",
            "epoch 121| loss: 0.11423 | train_accuracy: 0.9654  | valid_accuracy: 0.9489  |  0:25:27s\n",
            "epoch 122| loss: 0.10977 | train_accuracy: 0.9594  | valid_accuracy: 0.94334 |  0:25:39s\n",
            "epoch 123| loss: 0.115   | train_accuracy: 0.96124 | valid_accuracy: 0.94498 |  0:25:52s\n",
            "epoch 124| loss: 0.11004 | train_accuracy: 0.96218 | valid_accuracy: 0.94555 |  0:26:05s\n",
            "epoch 125| loss: 0.11206 | train_accuracy: 0.96183 | valid_accuracy: 0.94418 |  0:26:17s\n",
            "epoch 126| loss: 0.10887 | train_accuracy: 0.96051 | valid_accuracy: 0.94464 |  0:26:30s\n",
            "epoch 127| loss: 0.11107 | train_accuracy: 0.96525 | valid_accuracy: 0.94762 |  0:26:42s\n",
            "epoch 128| loss: 0.10961 | train_accuracy: 0.96412 | valid_accuracy: 0.94739 |  0:26:54s\n",
            "epoch 129| loss: 0.10726 | train_accuracy: 0.96129 | valid_accuracy: 0.94375 |  0:27:07s\n",
            "epoch 130| loss: 0.10845 | train_accuracy: 0.965   | valid_accuracy: 0.94722 |  0:27:19s\n",
            "epoch 131| loss: 0.10515 | train_accuracy: 0.95783 | valid_accuracy: 0.94074 |  0:27:31s\n",
            "epoch 132| loss: 0.10507 | train_accuracy: 0.96651 | valid_accuracy: 0.94789 |  0:27:44s\n",
            "epoch 133| loss: 0.10405 | train_accuracy: 0.96709 | valid_accuracy: 0.94935 |  0:27:56s\n",
            "epoch 134| loss: 0.10525 | train_accuracy: 0.96244 | valid_accuracy: 0.94487 |  0:28:09s\n",
            "epoch 135| loss: 0.11127 | train_accuracy: 0.96452 | valid_accuracy: 0.94667 |  0:28:21s\n",
            "epoch 136| loss: 0.11536 | train_accuracy: 0.96457 | valid_accuracy: 0.94682 |  0:28:33s\n",
            "epoch 137| loss: 0.10608 | train_accuracy: 0.9667  | valid_accuracy: 0.94891 |  0:28:46s\n",
            "epoch 138| loss: 0.10233 | train_accuracy: 0.96834 | valid_accuracy: 0.95002 |  0:28:58s\n",
            "epoch 139| loss: 0.10176 | train_accuracy: 0.96625 | valid_accuracy: 0.94851 |  0:29:10s\n",
            "epoch 140| loss: 0.1     | train_accuracy: 0.96582 | valid_accuracy: 0.94757 |  0:29:23s\n",
            "epoch 141| loss: 0.09865 | train_accuracy: 0.96032 | valid_accuracy: 0.94226 |  0:29:35s\n",
            "epoch 142| loss: 0.09918 | train_accuracy: 0.96606 | valid_accuracy: 0.94836 |  0:29:48s\n",
            "epoch 143| loss: 0.10005 | train_accuracy: 0.9676  | valid_accuracy: 0.94941 |  0:30:00s\n",
            "epoch 144| loss: 0.09791 | train_accuracy: 0.96521 | valid_accuracy: 0.94655 |  0:30:12s\n",
            "epoch 145| loss: 0.09901 | train_accuracy: 0.96918 | valid_accuracy: 0.95108 |  0:30:25s\n",
            "epoch 146| loss: 0.09633 | train_accuracy: 0.97073 | valid_accuracy: 0.95165 |  0:30:37s\n",
            "epoch 147| loss: 0.0969  | train_accuracy: 0.9689  | valid_accuracy: 0.94933 |  0:30:49s\n",
            "epoch 148| loss: 0.10011 | train_accuracy: 0.96184 | valid_accuracy: 0.94358 |  0:31:01s\n",
            "epoch 149| loss: 0.11153 | train_accuracy: 0.96678 | valid_accuracy: 0.94841 |  0:31:14s\n",
            "epoch 150| loss: 0.10206 | train_accuracy: 0.96649 | valid_accuracy: 0.94841 |  0:31:26s\n",
            "epoch 151| loss: 0.10104 | train_accuracy: 0.97    | valid_accuracy: 0.95023 |  0:31:38s\n",
            "epoch 152| loss: 0.09687 | train_accuracy: 0.96946 | valid_accuracy: 0.94974 |  0:31:51s\n",
            "epoch 153| loss: 0.10235 | train_accuracy: 0.9678  | valid_accuracy: 0.94852 |  0:32:03s\n",
            "epoch 154| loss: 0.09604 | train_accuracy: 0.97151 | valid_accuracy: 0.95241 |  0:32:15s\n",
            "epoch 155| loss: 0.09468 | train_accuracy: 0.9692  | valid_accuracy: 0.95028 |  0:32:27s\n",
            "epoch 156| loss: 0.09512 | train_accuracy: 0.96726 | valid_accuracy: 0.94836 |  0:32:40s\n",
            "epoch 157| loss: 0.0941  | train_accuracy: 0.96809 | valid_accuracy: 0.94881 |  0:32:52s\n",
            "epoch 158| loss: 0.09455 | train_accuracy: 0.96913 | valid_accuracy: 0.9491  |  0:33:04s\n",
            "epoch 159| loss: 0.09588 | train_accuracy: 0.97036 | valid_accuracy: 0.94987 |  0:33:16s\n",
            "epoch 160| loss: 0.09287 | train_accuracy: 0.97011 | valid_accuracy: 0.95011 |  0:33:29s\n",
            "epoch 161| loss: 0.09216 | train_accuracy: 0.97271 | valid_accuracy: 0.95125 |  0:33:41s\n",
            "epoch 162| loss: 0.09304 | train_accuracy: 0.97063 | valid_accuracy: 0.9503  |  0:33:53s\n",
            "epoch 163| loss: 0.09316 | train_accuracy: 0.96927 | valid_accuracy: 0.94915 |  0:34:06s\n",
            "epoch 164| loss: 0.09412 | train_accuracy: 0.97041 | valid_accuracy: 0.95094 |  0:34:18s\n",
            "epoch 165| loss: 0.09272 | train_accuracy: 0.97043 | valid_accuracy: 0.9501  |  0:34:30s\n",
            "epoch 166| loss: 0.09126 | train_accuracy: 0.97194 | valid_accuracy: 0.95172 |  0:34:43s\n",
            "epoch 167| loss: 0.09282 | train_accuracy: 0.97029 | valid_accuracy: 0.94989 |  0:34:55s\n",
            "epoch 168| loss: 0.0951  | train_accuracy: 0.96779 | valid_accuracy: 0.94747 |  0:35:07s\n",
            "epoch 169| loss: 0.08981 | train_accuracy: 0.971   | valid_accuracy: 0.95106 |  0:35:19s\n",
            "epoch 170| loss: 0.08841 | train_accuracy: 0.97059 | valid_accuracy: 0.94959 |  0:35:32s\n",
            "epoch 171| loss: 0.08901 | train_accuracy: 0.96935 | valid_accuracy: 0.9487  |  0:35:44s\n",
            "epoch 172| loss: 0.09131 | train_accuracy: 0.97236 | valid_accuracy: 0.95185 |  0:35:57s\n",
            "epoch 173| loss: 0.08978 | train_accuracy: 0.96933 | valid_accuracy: 0.94906 |  0:36:09s\n",
            "epoch 174| loss: 0.09031 | train_accuracy: 0.97174 | valid_accuracy: 0.95063 |  0:36:21s\n",
            "epoch 175| loss: 0.10971 | train_accuracy: 0.96304 | valid_accuracy: 0.9438  |  0:36:34s\n",
            "epoch 176| loss: 0.10396 | train_accuracy: 0.96585 | valid_accuracy: 0.94671 |  0:36:46s\n",
            "epoch 177| loss: 0.09378 | train_accuracy: 0.96996 | valid_accuracy: 0.94871 |  0:36:58s\n",
            "epoch 178| loss: 0.09026 | train_accuracy: 0.97389 | valid_accuracy: 0.95354 |  0:37:11s\n",
            "epoch 179| loss: 0.12705 | train_accuracy: 0.95229 | valid_accuracy: 0.9353  |  0:37:23s\n",
            "epoch 180| loss: 0.128   | train_accuracy: 0.96457 | valid_accuracy: 0.94646 |  0:37:36s\n",
            "epoch 181| loss: 0.11508 | train_accuracy: 0.96109 | valid_accuracy: 0.94301 |  0:37:48s\n",
            "epoch 182| loss: 0.10507 | train_accuracy: 0.96756 | valid_accuracy: 0.9483  |  0:38:00s\n",
            "epoch 183| loss: 0.09601 | train_accuracy: 0.96823 | valid_accuracy: 0.94855 |  0:38:12s\n",
            "epoch 184| loss: 0.09256 | train_accuracy: 0.97252 | valid_accuracy: 0.95237 |  0:38:25s\n",
            "epoch 185| loss: 0.09231 | train_accuracy: 0.97216 | valid_accuracy: 0.95175 |  0:38:37s\n",
            "epoch 186| loss: 0.08781 | train_accuracy: 0.96713 | valid_accuracy: 0.94811 |  0:38:50s\n",
            "epoch 187| loss: 0.08998 | train_accuracy: 0.9675  | valid_accuracy: 0.94877 |  0:39:02s\n",
            "epoch 188| loss: 0.08781 | train_accuracy: 0.97038 | valid_accuracy: 0.94939 |  0:39:14s\n",
            "epoch 189| loss: 0.08835 | train_accuracy: 0.9726  | valid_accuracy: 0.95166 |  0:39:26s\n",
            "epoch 190| loss: 0.08848 | train_accuracy: 0.97152 | valid_accuracy: 0.9515  |  0:39:39s\n",
            "epoch 191| loss: 0.08644 | train_accuracy: 0.97327 | valid_accuracy: 0.95221 |  0:39:51s\n",
            "epoch 192| loss: 0.08415 | train_accuracy: 0.97514 | valid_accuracy: 0.95389 |  0:40:04s\n",
            "epoch 193| loss: 0.08407 | train_accuracy: 0.97198 | valid_accuracy: 0.95021 |  0:40:16s\n",
            "epoch 194| loss: 0.09292 | train_accuracy: 0.96033 | valid_accuracy: 0.94098 |  0:40:28s\n",
            "epoch 195| loss: 0.10386 | train_accuracy: 0.96755 | valid_accuracy: 0.94775 |  0:40:41s\n",
            "epoch 196| loss: 0.10078 | train_accuracy: 0.96629 | valid_accuracy: 0.94669 |  0:40:53s\n",
            "epoch 197| loss: 0.10369 | train_accuracy: 0.97067 | valid_accuracy: 0.94979 |  0:41:05s\n",
            "epoch 198| loss: 0.09469 | train_accuracy: 0.97109 | valid_accuracy: 0.9501  |  0:41:18s\n",
            "epoch 199| loss: 0.09134 | train_accuracy: 0.97423 | valid_accuracy: 0.95257 |  0:41:30s\n",
            "epoch 200| loss: 0.10187 | train_accuracy: 0.96535 | valid_accuracy: 0.94575 |  0:41:42s\n",
            "epoch 201| loss: 0.10702 | train_accuracy: 0.9651  | valid_accuracy: 0.94583 |  0:41:55s\n",
            "epoch 202| loss: 0.09981 | train_accuracy: 0.96824 | valid_accuracy: 0.94884 |  0:42:07s\n",
            "epoch 203| loss: 0.09257 | train_accuracy: 0.96629 | valid_accuracy: 0.94662 |  0:42:19s\n",
            "epoch 204| loss: 0.0881  | train_accuracy: 0.9751  | valid_accuracy: 0.95298 |  0:42:32s\n",
            "epoch 205| loss: 0.08613 | train_accuracy: 0.96958 | valid_accuracy: 0.9486  |  0:42:44s\n",
            "epoch 206| loss: 0.08481 | train_accuracy: 0.97176 | valid_accuracy: 0.9503  |  0:42:56s\n",
            "epoch 207| loss: 0.12186 | train_accuracy: 0.95675 | valid_accuracy: 0.93908 |  0:43:09s\n",
            "epoch 208| loss: 0.10783 | train_accuracy: 0.96518 | valid_accuracy: 0.94653 |  0:43:21s\n",
            "epoch 209| loss: 0.09968 | train_accuracy: 0.96926 | valid_accuracy: 0.94919 |  0:43:33s\n",
            "epoch 210| loss: 0.09412 | train_accuracy: 0.9695  | valid_accuracy: 0.94866 |  0:43:45s\n",
            "epoch 211| loss: 0.09054 | train_accuracy: 0.97168 | valid_accuracy: 0.95102 |  0:43:58s\n",
            "epoch 212| loss: 0.12258 | train_accuracy: 0.95171 | valid_accuracy: 0.93355 |  0:44:10s\n",
            "epoch 213| loss: 0.12199 | train_accuracy: 0.96626 | valid_accuracy: 0.94652 |  0:44:23s\n",
            "epoch 214| loss: 0.0992  | train_accuracy: 0.96952 | valid_accuracy: 0.94923 |  0:44:35s\n",
            "epoch 215| loss: 0.09343 | train_accuracy: 0.972   | valid_accuracy: 0.95145 |  0:44:47s\n",
            "epoch 216| loss: 0.09114 | train_accuracy: 0.97184 | valid_accuracy: 0.95185 |  0:45:00s\n",
            "epoch 217| loss: 0.08819 | train_accuracy: 0.97414 | valid_accuracy: 0.95316 |  0:45:12s\n",
            "epoch 218| loss: 0.08825 | train_accuracy: 0.9729  | valid_accuracy: 0.95143 |  0:45:24s\n",
            "epoch 219| loss: 0.08399 | train_accuracy: 0.97335 | valid_accuracy: 0.9525  |  0:45:37s\n",
            "epoch 220| loss: 0.08264 | train_accuracy: 0.97546 | valid_accuracy: 0.95376 |  0:45:49s\n",
            "epoch 221| loss: 0.08933 | train_accuracy: 0.96772 | valid_accuracy: 0.94783 |  0:46:02s\n",
            "epoch 222| loss: 0.0883  | train_accuracy: 0.97329 | valid_accuracy: 0.95237 |  0:46:14s\n",
            "epoch 223| loss: 0.08198 | train_accuracy: 0.97623 | valid_accuracy: 0.95456 |  0:46:26s\n",
            "epoch 224| loss: 0.0813  | train_accuracy: 0.97681 | valid_accuracy: 0.95438 |  0:46:39s\n",
            "epoch 225| loss: 0.08095 | train_accuracy: 0.97486 | valid_accuracy: 0.95292 |  0:46:51s\n",
            "epoch 226| loss: 0.07955 | train_accuracy: 0.9716  | valid_accuracy: 0.95012 |  0:47:03s\n",
            "epoch 227| loss: 0.07858 | train_accuracy: 0.97027 | valid_accuracy: 0.9486  |  0:47:16s\n",
            "epoch 228| loss: 0.08588 | train_accuracy: 0.972   | valid_accuracy: 0.95051 |  0:47:28s\n",
            "epoch 229| loss: 0.08536 | train_accuracy: 0.97566 | valid_accuracy: 0.95237 |  0:47:40s\n",
            "epoch 230| loss: 0.08053 | train_accuracy: 0.97326 | valid_accuracy: 0.95134 |  0:47:53s\n",
            "epoch 231| loss: 0.07831 | train_accuracy: 0.97491 | valid_accuracy: 0.95241 |  0:48:05s\n",
            "epoch 232| loss: 0.07724 | train_accuracy: 0.97784 | valid_accuracy: 0.95466 |  0:48:18s\n",
            "epoch 233| loss: 0.07633 | train_accuracy: 0.97922 | valid_accuracy: 0.95606 |  0:48:30s\n",
            "epoch 234| loss: 0.07502 | train_accuracy: 0.97733 | valid_accuracy: 0.95497 |  0:48:42s\n",
            "epoch 235| loss: 0.07432 | train_accuracy: 0.97464 | valid_accuracy: 0.95283 |  0:48:55s\n",
            "epoch 236| loss: 0.07427 | train_accuracy: 0.97422 | valid_accuracy: 0.95146 |  0:49:07s\n",
            "epoch 237| loss: 0.07361 | train_accuracy: 0.97634 | valid_accuracy: 0.95358 |  0:49:20s\n",
            "epoch 238| loss: 0.07777 | train_accuracy: 0.97341 | valid_accuracy: 0.95141 |  0:49:32s\n",
            "epoch 239| loss: 0.07444 | train_accuracy: 0.97767 | valid_accuracy: 0.95479 |  0:49:44s\n",
            "epoch 240| loss: 0.07323 | train_accuracy: 0.97664 | valid_accuracy: 0.95246 |  0:49:57s\n",
            "epoch 241| loss: 0.07455 | train_accuracy: 0.9732  | valid_accuracy: 0.95103 |  0:50:09s\n",
            "epoch 242| loss: 0.07558 | train_accuracy: 0.97868 | valid_accuracy: 0.956   |  0:50:21s\n",
            "epoch 243| loss: 0.07305 | train_accuracy: 0.97772 | valid_accuracy: 0.95411 |  0:50:34s\n",
            "epoch 244| loss: 0.0794  | train_accuracy: 0.97309 | valid_accuracy: 0.95023 |  0:50:46s\n",
            "epoch 245| loss: 0.07972 | train_accuracy: 0.97757 | valid_accuracy: 0.95409 |  0:50:59s\n",
            "epoch 246| loss: 0.08071 | train_accuracy: 0.97655 | valid_accuracy: 0.95285 |  0:51:11s\n",
            "epoch 247| loss: 0.08276 | train_accuracy: 0.97504 | valid_accuracy: 0.95394 |  0:51:23s\n",
            "epoch 248| loss: 0.08041 | train_accuracy: 0.97751 | valid_accuracy: 0.95506 |  0:51:36s\n",
            "epoch 249| loss: 0.08178 | train_accuracy: 0.97585 | valid_accuracy: 0.95362 |  0:51:48s\n",
            "Stop training because you reached max_epochs = 250 with best_epoch = 233 and best_valid_accuracy = 0.95606\n",
            "Best weights from best epoch are automatically used!\n"
          ],
          "name": "stdout"
        }
      ]
    },
    {
      "cell_type": "code",
      "metadata": {
        "colab": {
          "base_uri": "https://localhost:8080/",
          "height": 282
        },
        "id": "zEsqLVdUo_Xw",
        "outputId": "3241dd5b-df0d-4897-a581-a613a9013b6a"
      },
      "source": [
        "# plot losses\n",
        "plt.plot(clf.history['loss'])"
      ],
      "execution_count": 27,
      "outputs": [
        {
          "output_type": "execute_result",
          "data": {
            "text/plain": [
              "[<matplotlib.lines.Line2D at 0x7f9eb037a150>]"
            ]
          },
          "metadata": {
            "tags": []
          },
          "execution_count": 27
        },
        {
          "output_type": "display_data",
          "data": {
            "image/png": "[encoded data removed]",
            "text/plain": [
              "<Figure size 432x288 with 1 Axes>"
            ]
          },
          "metadata": {
            "tags": [],
            "needs_background": "light"
          }
        }
      ]
    },
    {
      "cell_type": "code",
      "metadata": {
        "colab": {
          "base_uri": "https://localhost:8080/",
          "height": 282
        },
        "id": "uezqvpcTo_Xx",
        "outputId": "c62312f9-7db9-4f64-85fd-35f17b45bbee"
      },
      "source": [
        "# plot accuracy\n",
        "plt.plot(clf.history['train_accuracy'])\n",
        "plt.plot(clf.history['valid_accuracy'])"
      ],
      "execution_count": 28,
      "outputs": [
        {
          "output_type": "execute_result",
          "data": {
            "text/plain": [
              "[<matplotlib.lines.Line2D at 0x7f9e9ee53f50>]"
            ]
          },
          "metadata": {
            "tags": []
          },
          "execution_count": 28
        },
        {
          "output_type": "display_data",
          "data": {
            "image/png": "[encoded data removed]",
            "text/plain": [
              "<Figure size 432x288 with 1 Axes>"
            ]
          },
          "metadata": {
            "tags": [],
            "needs_background": "light"
          }
        }
      ]
    },
    {
      "cell_type": "markdown",
      "metadata": {
        "id": "2u9U6gULo_Xy"
      },
      "source": [
        "### Predictions\n"
      ]
    },
    {
      "cell_type": "code",
      "metadata": {
        "colab": {
          "base_uri": "https://localhost:8080/"
        },
        "id": "A_E3baBro_Xy",
        "outputId": "85e7e6f9-c8c1-4749-cc08-2d8c6759ed05"
      },
      "source": [
        "# To get final results you may need to use a mapping for classes \n",
        "# as you are allowed to use targets like [\"yes\", \"no\", \"maybe\", \"I don't know\"]\n",
        "\n",
        "preds_mapper = { idx : class_name for idx, class_name in enumerate(clf.classes_)}\n",
        "\n",
        "preds = clf.predict_proba(X_test)\n",
        "\n",
        "y_pred = np.vectorize(preds_mapper.get)(np.argmax(preds, axis=1))\n",
        "\n",
        "test_acc = accuracy_score(y_pred=y_pred, y_true=y_test)\n",
        "\n",
        "print(f\"BEST VALID SCORE FOR {dataset_name} : {clf.best_cost}\")\n",
        "print(f\"FINAL TEST SCORE FOR {dataset_name} : {test_acc}\")"
      ],
      "execution_count": 44,
      "outputs": [
        {
          "output_type": "stream",
          "text": [
            "BEST VALID SCORE FOR forest-cover-type : 0.9560595596920038\n",
            "FINAL TEST SCORE FOR forest-cover-type : 0.9573591043260501\n"
          ],
          "name": "stdout"
        }
      ]
    },
    {
      "cell_type": "code",
      "metadata": {
        "colab": {
          "base_uri": "https://localhost:8080/"
        },
        "id": "QrJO2yMto_Xy",
        "outputId": "d10b6e09-8c29-43f4-a6fe-a5ef66436645"
      },
      "source": [
        "# or you can simply use the predict method\n",
        "\n",
        "y_pred = clf.predict(X_test)\n",
        "test_acc = accuracy_score(y_pred=y_pred, y_true=y_test)\n",
        "print(f\"FINAL TEST SCORE FOR {dataset_name} : {test_acc}\")"
      ],
      "execution_count": 30,
      "outputs": [
        {
          "output_type": "stream",
          "text": [
            "FINAL TEST SCORE FOR forest-cover-type : 0.9573591043260501\n"
          ],
          "name": "stdout"
        }
      ]
    },
    {
      "cell_type": "markdown",
      "metadata": {
        "id": "01avVmhko_Xz"
      },
      "source": [
        "# Save and load Model"
      ]
    },
    {
      "cell_type": "code",
      "metadata": {
        "id": "bFpWghZFmFHV"
      },
      "source": [
        "from scipy.stats import norm\n",
        "import numpy as np"
      ],
      "execution_count": 38,
      "outputs": []
    },
    {
      "cell_type": "code",
      "metadata": {
        "colab": {
          "base_uri": "https://localhost:8080/"
        },
        "id": "DN8xglv2o_Xz",
        "outputId": "87c2654b-91bd-45e5-e3f1-c93a04d73b1e"
      },
      "source": [
        "# save state dict\n",
        "saved_filename = clf.save_model('test_model')"
      ],
      "execution_count": 45,
      "outputs": [
        {
          "output_type": "stream",
          "text": [
            "Successfully saved model at test_model.zip\n"
          ],
          "name": "stdout"
        }
      ]
    },
    {
      "cell_type": "code",
      "metadata": {
        "colab": {
          "base_uri": "https://localhost:8080/"
        },
        "id": "380pl00zo_Xz",
        "outputId": "c14c8a12-821e-4397-86ae-059e22830726"
      },
      "source": [
        "# define new model and load save parameters\n",
        "loaded_clf = TabNetClassifier()\n",
        "loaded_clf.load_model(saved_filename)"
      ],
      "execution_count": 46,
      "outputs": [
        {
          "output_type": "stream",
          "text": [
            "Device used : cuda\n",
            "Device used : cuda\n"
          ],
          "name": "stdout"
        }
      ]
    },
    {
      "cell_type": "code",
      "metadata": {
        "colab": {
          "base_uri": "https://localhost:8080/"
        },
        "id": "RckOziSpo_X0",
        "outputId": "c299ca22-7cb2-4e43-b5fc-da7cf413a592"
      },
      "source": [
        "loaded_preds = loaded_clf.predict_proba(X_test)\n",
        "loaded_y_pred = np.vectorize(preds_mapper.get)(np.argmax(loaded_preds, axis=1))\n",
        "\n",
        "loaded_test_acc = accuracy_score(y_pred=loaded_y_pred, y_true=y_test)\n",
        "\n",
        "print(f\"FINAL TEST SCORE FOR {dataset_name} : {loaded_test_acc}\")"
      ],
      "execution_count": 47,
      "outputs": [
        {
          "output_type": "stream",
          "text": [
            "FINAL TEST SCORE FOR forest-cover-type : 0.9573591043260501\n"
          ],
          "name": "stdout"
        }
      ]
    },
    {
      "cell_type": "code",
      "metadata": {
        "id": "n56qvP3Uo_X0"
      },
      "source": [
        "assert(test_acc == loaded_test_acc)"
      ],
      "execution_count": 48,
      "outputs": []
    },
    {
      "cell_type": "markdown",
      "metadata": {
        "id": "HFW7D0pZo_X0"
      },
      "source": [
        "# Global explainability : feat importance summing to 1"
      ]
    },
    {
      "cell_type": "code",
      "metadata": {
        "colab": {
          "base_uri": "https://localhost:8080/"
        },
        "id": "FoA6JYcAo_X0",
        "outputId": "7f412906-07fa-46b8-e1cf-b281ac529aea"
      },
      "source": [
        "clf.feature_importances_"
      ],
      "execution_count": 49,
      "outputs": [
        {
          "output_type": "execute_result",
          "data": {
            "text/plain": [
              "array([0.02706155, 0.00224204, 0.        , 0.0169078 , 0.00702301,\n",
              "       0.09004384, 0.00543241, 0.        , 0.0081443 , 0.03452983,\n",
              "       0.02028738, 0.00762809, 0.04146721, 0.06607267, 0.00256568,\n",
              "       0.03350473, 0.00235232, 0.02343026, 0.01150907, 0.01723413,\n",
              "       0.00218536, 0.00756994, 0.0090012 , 0.00111894, 0.00485791,\n",
              "       0.02115196, 0.00534118, 0.0359652 , 0.02299261, 0.00048725,\n",
              "       0.00717472, 0.02647674, 0.048271  , 0.03296242, 0.        ,\n",
              "       0.00962044, 0.        , 0.03283985, 0.03855981, 0.00317525,\n",
              "       0.00072577, 0.10370407, 0.01681898, 0.01256456, 0.00247763,\n",
              "       0.        , 0.03028697, 0.01698952, 0.00381157, 0.00322042,\n",
              "       0.02578737, 0.00842081, 0.02821594, 0.0197883 ])"
            ]
          },
          "metadata": {
            "tags": []
          },
          "execution_count": 49
        }
      ]
    },
    {
      "cell_type": "markdown",
      "metadata": {
        "id": "3b9qRjKio_X1"
      },
      "source": [
        "# Local explainability and masks"
      ]
    },
    {
      "cell_type": "code",
      "metadata": {
        "id": "f8GfSjh_o_X1"
      },
      "source": [
        "explain_matrix, masks = clf.explain(X_test)"
      ],
      "execution_count": 50,
      "outputs": []
    },
    {
      "cell_type": "code",
      "metadata": {
        "colab": {
          "base_uri": "https://localhost:8080/",
          "height": 216
        },
        "id": "8AyBdrcPo_X1",
        "outputId": "607d8f67-f6d4-4883-cc30-fa65eef0c66b"
      },
      "source": [
        "fig, axs = plt.subplots(1, 5, figsize=(20,20))\n",
        "\n",
        "for i in range(5):\n",
        "    axs[i].imshow(masks[i][:50])\n",
        "    axs[i].set_title(f\"mask {i}\")"
      ],
      "execution_count": 51,
      "outputs": [
        {
          "output_type": "display_data",
          "data": {
            "image/png": "[encoded data removed]",
            "text/plain": [
              "<Figure size 1440x1440 with 5 Axes>"
            ]
          },
          "metadata": {
            "tags": [],
            "needs_background": "light"
          }
        }
      ]
    },
    {
      "cell_type": "markdown",
      "metadata": {
        "id": "sIirxs47o_X1"
      },
      "source": [
        "# XGB"
      ]
    },
    {
      "cell_type": "code",
      "metadata": {
        "id": "OQma1ckBo_X1"
      },
      "source": [
        "n_estimators = 1000 if not os.getenv(\"CI\", False) else 20"
      ],
      "execution_count": 52,
      "outputs": []
    },
    {
      "cell_type": "code",
      "metadata": {
        "id": "NUp96g5-o_X2",
        "scrolled": true,
        "colab": {
          "base_uri": "https://localhost:8080/"
        },
        "outputId": "7a48e5cc-8a24-4b1a-9da2-f84296edb7d4"
      },
      "source": [
        "from xgboost import XGBClassifier\n",
        "\n",
        "clf_xgb = XGBClassifier(max_depth=8,\n",
        "    learning_rate=0.1,\n",
        "    n_estimators=n_estimators,\n",
        "    verbosity=0,\n",
        "    silent=None,\n",
        "    objective=\"multi:softmax\",\n",
        "    booster='gbtree',\n",
        "    n_jobs=-1,\n",
        "    nthread=None,\n",
        "    gamma=0,\n",
        "    min_child_weight=1,\n",
        "    max_delta_step=0,\n",
        "    subsample=0.7,\n",
        "    colsample_bytree=1,\n",
        "    colsample_bylevel=1,\n",
        "    colsample_bynode=1,\n",
        "    reg_alpha=0,\n",
        "    reg_lambda=1,\n",
        "    scale_pos_weight=1,\n",
        "    base_score=0.5,\n",
        "    random_state=0,\n",
        "    seed=None,)\n",
        "\n",
        "clf_xgb.fit(X_train, y_train,\n",
        "            eval_set=[(X_valid, y_valid)],\n",
        "            early_stopping_rounds=40,\n",
        "            verbose=10)"
      ],
      "execution_count": null,
      "outputs": [
        {
          "output_type": "stream",
          "text": [
            "[0]\tvalidation_0-merror:0.220102\n",
            "Will train until validation_0-merror hasn't improved in 40 rounds.\n",
            "[10]\tvalidation_0-merror:0.195292\n",
            "[20]\tvalidation_0-merror:0.184288\n",
            "[30]\tvalidation_0-merror:0.17753\n",
            "[40]\tvalidation_0-merror:0.170727\n",
            "[50]\tvalidation_0-merror:0.162376\n",
            "[60]\tvalidation_0-merror:0.15656\n",
            "[70]\tvalidation_0-merror:0.151268\n",
            "[80]\tvalidation_0-merror:0.14644\n",
            "[90]\tvalidation_0-merror:0.141348\n",
            "[100]\tvalidation_0-merror:0.136733\n",
            "[110]\tvalidation_0-merror:0.132015\n",
            "[120]\tvalidation_0-merror:0.127006\n",
            "[130]\tvalidation_0-merror:0.123005\n",
            "[140]\tvalidation_0-merror:0.119055\n",
            "[150]\tvalidation_0-merror:0.11464\n",
            "[160]\tvalidation_0-merror:0.110348\n",
            "[170]\tvalidation_0-merror:0.107198\n",
            "[180]\tvalidation_0-merror:0.103397\n",
            "[190]\tvalidation_0-merror:0.099834\n",
            "[200]\tvalidation_0-merror:0.097485\n",
            "[210]\tvalidation_0-merror:0.093922\n",
            "[220]\tvalidation_0-merror:0.091353\n",
            "[230]\tvalidation_0-merror:0.089004\n",
            "[240]\tvalidation_0-merror:0.086467\n",
            "[250]\tvalidation_0-merror:0.084066\n",
            "[260]\tvalidation_0-merror:0.081427\n",
            "[270]\tvalidation_0-merror:0.079264\n",
            "[280]\tvalidation_0-merror:0.077548\n",
            "[290]\tvalidation_0-merror:0.075502\n",
            "[300]\tvalidation_0-merror:0.07352\n",
            "[310]\tvalidation_0-merror:0.071849\n",
            "[320]\tvalidation_0-merror:0.070422\n",
            "[330]\tvalidation_0-merror:0.069054\n",
            "[340]\tvalidation_0-merror:0.067802\n",
            "[350]\tvalidation_0-merror:0.066627\n",
            "[360]\tvalidation_0-merror:0.065401\n",
            "[370]\tvalidation_0-merror:0.064555\n",
            "[380]\tvalidation_0-merror:0.063277\n",
            "[390]\tvalidation_0-merror:0.062258\n",
            "[400]\tvalidation_0-merror:0.061083\n",
            "[410]\tvalidation_0-merror:0.060373\n",
            "[420]\tvalidation_0-merror:0.059302\n",
            "[430]\tvalidation_0-merror:0.058708\n",
            "[440]\tvalidation_0-merror:0.05794\n",
            "[450]\tvalidation_0-merror:0.057055\n",
            "[460]\tvalidation_0-merror:0.056404\n",
            "[470]\tvalidation_0-merror:0.055584\n",
            "[480]\tvalidation_0-merror:0.055184\n",
            "[490]\tvalidation_0-merror:0.054519\n",
            "[500]\tvalidation_0-merror:0.054125\n",
            "[510]\tvalidation_0-merror:0.053415\n",
            "[520]\tvalidation_0-merror:0.052976\n",
            "[530]\tvalidation_0-merror:0.052331\n",
            "[540]\tvalidation_0-merror:0.051821\n",
            "[550]\tvalidation_0-merror:0.051214\n",
            "[560]\tvalidation_0-merror:0.05053\n",
            "[570]\tvalidation_0-merror:0.050078\n",
            "[580]\tvalidation_0-merror:0.049827\n",
            "[590]\tvalidation_0-merror:0.049549\n",
            "[600]\tvalidation_0-merror:0.048904\n",
            "[610]\tvalidation_0-merror:0.04842\n",
            "[620]\tvalidation_0-merror:0.048058\n",
            "[630]\tvalidation_0-merror:0.047548\n",
            "[640]\tvalidation_0-merror:0.047148\n",
            "[650]\tvalidation_0-merror:0.046838\n",
            "[660]\tvalidation_0-merror:0.046509\n",
            "[670]\tvalidation_0-merror:0.046199\n",
            "[680]\tvalidation_0-merror:0.046057\n",
            "[690]\tvalidation_0-merror:0.045954\n",
            "[700]\tvalidation_0-merror:0.045728\n",
            "[710]\tvalidation_0-merror:0.045315\n",
            "[720]\tvalidation_0-merror:0.045018\n",
            "[730]\tvalidation_0-merror:0.044618\n",
            "[740]\tvalidation_0-merror:0.044341\n",
            "[750]\tvalidation_0-merror:0.044263\n"
          ],
          "name": "stdout"
        }
      ]
    },
    {
      "cell_type": "code",
      "metadata": {
        "id": "O3a1HviYo_X2"
      },
      "source": [
        "preds_valid = np.array(clf_xgb.predict_proba(X_valid, ))\n",
        "valid_acc = accuracy_score(y_pred=np.argmax(preds_valid, axis=1) + 1, y_true=y_valid)\n",
        "print(valid_acc)\n",
        "\n",
        "preds_test = np.array(clf_xgb.predict_proba(X_test))\n",
        "test_acc = accuracy_score(y_pred=np.argmax(preds_test, axis=1) + 1, y_true=y_test)\n",
        "print(test_acc)"
      ],
      "execution_count": null,
      "outputs": []
    },
    {
      "cell_type": "code",
      "metadata": {
        "id": "aS5m2Xulo_X2"
      },
      "source": [
        ""
      ],
      "execution_count": null,
      "outputs": []
    }
  ]
}